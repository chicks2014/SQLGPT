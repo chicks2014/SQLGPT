{
  "cells": [
    {
      "cell_type": "markdown",
      "metadata": {},
      "source": [
        "## Install required libs"
      ]
    },
    {
      "cell_type": "code",
      "execution_count": null,
      "metadata": {
        "id": "kOszDMa59zF3"
      },
      "outputs": [],
      "source": [
        "pip install langchain langchain-experimental openai psycopg2"
      ]
    },
    {
      "cell_type": "code",
      "execution_count": null,
      "metadata": {
        "id": "zNJTpx2G-PRV"
      },
      "outputs": [],
      "source": [
        "from langchain.utilities import SQLDatabase\n",
        "from langchain.llms import OpenAI\n",
        "from langchain_experimental.sql import SQLDatabaseChain\n",
        "from langchain.prompts import PromptTemplate\n",
        "from langchain.prompts.chat import HumanMessagePromptTemplate\n",
        "from langchain.chat_models import ChatOpenAI\n",
        "from langchain.schema import HumanMessage, SystemMessage"
      ]
    },
    {
      "cell_type": "code",
      "execution_count": null,
      "metadata": {
        "id": "EtoGqXYa-TyZ"
      },
      "outputs": [],
      "source": [
        "def get_llm():\n",
        "    return ChatOpenAI(temperature=0, openai_api_key=\"OPENAI_API_KEY\")"
      ]
    },
    {
      "cell_type": "code",
      "execution_count": null,
      "metadata": {
        "id": "eMJYqx9b-WWE"
      },
      "outputs": [],
      "source": [
        "def get_sql_engine():\n",
        "    host = ''\n",
        "    username = ''\n",
        "    password = ''\n",
        "    database_schema = 'dbschema'\n",
        "\n",
        "    return create_engine(f'postgresql+psycopg2://{username}:{password}@{host}/{database_schema}')"
      ]
    },
    {
      "cell_type": "code",
      "execution_count": null,
      "metadata": {
        "id": "-21wPdVFNSwQ"
      },
      "outputs": [],
      "source": [
        "def get_schema():\n",
        "    cols = [\"id\", \"first_name\", \"last_name\", \"title\", \"address1\", \"city\", \"state\", \"zip\", \"country\", \"phone\", \"email\", \"birthdate\"]\n",
        "    schemas = []\n",
        "    for c in cols:\n",
        "        schemas.append(f\"\\n dbschema.contacts.{c}\")\n",
        "    catalog = \",\".join(schemas)\n",
        "\n",
        "    cols = (', '.join('\"' + item + '\"' for item in cols))\n",
        "    return cols, catalog"
      ]
    },
    {
      "cell_type": "code",
      "execution_count": null,
      "metadata": {
        "id": "6M3JUVZnAFsl"
      },
      "outputs": [],
      "source": [
        "def generate(query: str) -> str:\n",
        "    llm = get_llm()\n",
        "    engine = get_sql_engine()\n",
        "    cols, catalog = get_schema()\n",
        "\n",
        "    prompt_template = \"\"\" Given an input question, first create a postgrsql-style query to run, \n",
        "        then look at the results of the query and return the answer.\n",
        "\n",
        "        use the below columns for given question\n",
        "        {input} \\n\n",
        "        \"\"\"+catalog+\"\"\" \n",
        "\n",
        "            Only use the User table to generate the query:\n",
        "\n",
        "            Only use the following Column names: \\n\n",
        "          \"\"\"+ cols +\"\"\" \n",
        "        \n",
        "             \n",
        "        Examples of question and expected SQLQuery\n",
        "        Question: \"What is the date of birthday of virat kohli?\n",
        "        SQLQuery: SELECT \"birthdate\" FROM dbschema.\"contacts\" WHERE \"first_name\" = 'virat' AND \"last_name\" = 'kohli';\n",
        "\n",
        "        Write a postgreSQL query for Question: {input}\n",
        "        Only return the answer to user based on SQLResult of query\n",
        "        \"\"\"\n",
        "\n",
        "    db = SQLDatabase(engine)\n",
        "\n",
        "    PROMPT_sql = PromptTemplate(\n",
        "        input_variables=[\"input\" , \"dialect\"], template=prompt_template\n",
        "    )\n",
        "\n",
        "    db_chain = SQLDatabaseChain.from_llm(llm, db, prompt=PROMPT_sql, verbose=False)\n",
        "\n",
        "    response = db_chain(query)\n",
        "    if \"Answer\" in response:\n",
        "        return response['Answer']\n",
        "    if \"result\" in response:\n",
        "        return response['result']\n",
        "    else:\n",
        "        return response"
      ]
    },
    {
      "cell_type": "markdown",
      "metadata": {
        "id": "kghJp66UrxM5"
      },
      "source": [
        "# **Ask your queries**"
      ]
    },
    {
      "cell_type": "code",
      "execution_count": null,
      "metadata": {
        "id": "Tode7xKHAFu6"
      },
      "outputs": [],
      "source": [
        "res = generate(\"How many Project Manager are there?\")\n",
        "\n",
        "print(res)"
      ]
    },
    {
      "cell_type": "code",
      "execution_count": null,
      "metadata": {
        "id": "aEhN_MR4V7QR"
      },
      "outputs": [],
      "source": [
        "res = generate(\"How many Software Developers are there?\").\n",
        "\n",
        "print(res)"
      ]
    },
    {
      "cell_type": "markdown",
      "metadata": {
        "id": "rz8JG-4TQTGc"
      },
      "source": [
        "<center><b>Thank you</b></center>"
      ]
    }
  ],
  "metadata": {
    "colab": {
      "provenance": []
    },
    "kernelspec": {
      "display_name": "Python 3",
      "name": "python3"
    },
    "language_info": {
      "name": "python"
    }
  },
  "nbformat": 4,
  "nbformat_minor": 0
}
